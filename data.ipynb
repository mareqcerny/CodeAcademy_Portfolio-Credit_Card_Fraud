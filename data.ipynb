{
 "cells": [
  {
   "cell_type": "code",
   "execution_count": 4,
   "id": "f5fe2ff4",
   "metadata": {},
   "outputs": [],
   "source": [
    "# import libraries\n",
    "\n",
    "import seaborn\n",
    "import pandas as pd\n",
    "import numpy as np\n",
    "import matplotlib.pyplot as plt\n",
    "from sklearn.linear_model import LogisticRegression\n",
    "from sklearn.model_selection import train_test_split\n",
    "from sklearn.preprocessing import StandardScaler\n"
   ]
  },
  {
   "cell_type": "code",
   "execution_count": 34,
   "id": "44f9388a",
   "metadata": {},
   "outputs": [],
   "source": [
    "transactions = pd.read_csv('transactions_modified.csv', delimiter=\";\")\n",
    "#print(transactions.head())\n",
    "#print(transactions.info())"
   ]
  },
  {
   "cell_type": "code",
   "execution_count": 38,
   "id": "39c7ce85",
   "metadata": {},
   "outputs": [],
   "source": [
    "### Cleaing data ###\n",
    "\n",
    "#print(transactions['amount'].describe()) #inspecting the 'amount' column\n",
    "\n",
    "transactions['isPayment'] = np.where((transactions['type'] == 'PAYMENT') | (transactions['type'] == 'DEBIT'),1,0) #adding new column\n",
    "\n",
    "transactions['isMovement'] = np.where((transactions['type'] == 'CASH_OUT') | (transactions['type'] == 'TRANSFER'),1,0) #adding new column\n",
    "\n",
    "transactions['accountDiff'] = abs(transactions['oldbalanceDest'] - transactions['oldbalanceOrg']) #adding new column"
   ]
  },
  {
   "cell_type": "code",
   "execution_count": 53,
   "id": "3b9eb10f",
   "metadata": {},
   "outputs": [],
   "source": [
    "### Selecting, spliting and normalizing data\n",
    "\n",
    "features = transactions[['amount','isPayment','isMovement','accountDiff']]\n",
    "label = transactions['isFraud']\n",
    "\n",
    "X_train,X_test, y_train, y_test = train_test_split(features,label,train_size=0.3)\n",
    "scaler = StandardScaler()\n",
    "X_train = scaler.fit_transform(X_train)\n",
    "X_test = scaler.transform(X_test)"
   ]
  },
  {
   "cell_type": "code",
   "execution_count": 64,
   "id": "52dab7d1",
   "metadata": {},
   "outputs": [
    {
     "data": {
      "text/plain": [
       "LogisticRegression()"
      ]
     },
     "execution_count": 64,
     "metadata": {},
     "output_type": "execute_result"
    }
   ],
   "source": [
    "### Create and evaluate model\n",
    "\n",
    "model = LogisticRegression()\n",
    "model.fit(X_train,y_train)\n",
    "\n",
    "#print(model.score(X_train,y_train)) #running score on the train data = 0.86\n",
    "#print(model.score(X_test,y_test)) #running score on the test data = 0.83\n",
    "\n",
    "#print(model.coef_) # most important column for this predicion was the 'amount' folowing 'isMovement', 'accountDiff' and 'isPayment'"
   ]
  },
  {
   "cell_type": "code",
   "execution_count": 66,
   "id": "4cc2745a",
   "metadata": {
    "scrolled": true
   },
   "outputs": [
    {
     "name": "stdout",
     "output_type": "stream",
     "text": [
      "[0 0 0]\n",
      "[[0.63646065 0.36353935]\n",
      " [0.99574781 0.00425219]\n",
      " [0.99211991 0.00788009]]\n"
     ]
    },
    {
     "name": "stderr",
     "output_type": "stream",
     "text": [
      "/Users/marekcerny/opt/anaconda3/lib/python3.9/site-packages/sklearn/base.py:450: UserWarning: X does not have valid feature names, but StandardScaler was fitted with feature names\n",
      "  warnings.warn(\n"
     ]
    }
   ],
   "source": [
    "### Predict with tne model\n",
    "\n",
    "#new sample of transactions data to be tested\n",
    "transaction1 = np.array([123456.78, 0.0, 1.0, 54670.1])\n",
    "transaction2 = np.array([98765.43, 1.0, 0.0, 8524.75])\n",
    "transaction3 = np.array([543678.31, 1.0, 0.0, 510025.5])\n",
    "\n",
    "sample_transactions = np.stack((transaction1, transaction2, transaction3))\n",
    "np.set_printoptions(suppress=True, precision=8) # fixing decimal point - check later why is this happening\n",
    "\n",
    "sample_transactions = scaler.transform(sample_transactions)\n",
    "\n",
    "print(model.predict(sample_transactions)) # based on our model, none of the transactions are fraud\n",
    "print(model.predict_proba(sample_transactions)) # first column showing probability of transaction not being fraud, the second one probability of being fraud"
   ]
  },
  {
   "cell_type": "code",
   "execution_count": null,
   "id": "c1671a77",
   "metadata": {},
   "outputs": [],
   "source": []
  }
 ],
 "metadata": {
  "kernelspec": {
   "display_name": "Python 3 (ipykernel)",
   "language": "python",
   "name": "python3"
  },
  "language_info": {
   "codemirror_mode": {
    "name": "ipython",
    "version": 3
   },
   "file_extension": ".py",
   "mimetype": "text/x-python",
   "name": "python",
   "nbconvert_exporter": "python",
   "pygments_lexer": "ipython3",
   "version": "3.9.13"
  }
 },
 "nbformat": 4,
 "nbformat_minor": 5
}
